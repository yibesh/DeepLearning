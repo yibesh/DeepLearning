{
  "cells": [
    {
      "cell_type": "markdown",
      "metadata": {
        "id": "view-in-github",
        "colab_type": "text"
      },
      "source": [
        "<a href=\"https://colab.research.google.com/github/yibesh/DeepLearning/blob/main/MLP.ipynb\" target=\"_parent\"><img src=\"https://colab.research.google.com/assets/colab-badge.svg\" alt=\"Open In Colab\"/></a>"
      ]
    },
    {
      "cell_type": "code",
      "source": [
        "# ============================================================\n",
        "# Multi-Layer Perceptron (MLP) with Sequential API (TensorFlow/Keras)\n",
        "# ============================================================\n"
      ],
      "metadata": {
        "id": "qESF-rdTP15a"
      },
      "id": "qESF-rdTP15a",
      "execution_count": 2,
      "outputs": []
    },
    {
      "cell_type": "code",
      "source": [
        "# --- 1. Imports ---\n",
        "import numpy as np\n",
        "import tensorflow as tf\n",
        "from tensorflow.keras.models import Sequential\n",
        "from tensorflow.keras.layers import Dense, Dropout\n",
        "import matplotlib.pyplot as plt\n",
        "import pandas as pd\n",
        "from sklearn.model_selection import train_test_split"
      ],
      "metadata": {
        "id": "jOHnbOgdP5Pa"
      },
      "id": "jOHnbOgdP5Pa",
      "execution_count": 3,
      "outputs": []
    },
    {
      "cell_type": "code",
      "source": [
        "# --- 2. Configuration ---\n",
        "LEARNING_RATE = 0.001\n",
        "BATCH_SIZE = 32\n",
        "EPOCHS = 20\n",
        "DROPOUT_RATE = 0.3\n",
        "SEED = 42\n",
        "np.random.seed(SEED)\n",
        "tf.random.set_seed(SEED)"
      ],
      "metadata": {
        "id": "GllWKpZRP5S4"
      },
      "id": "GllWKpZRP5S4",
      "execution_count": 4,
      "outputs": []
    },
    {
      "cell_type": "code",
      "source": [
        "# --- 3. Example Dataset (sensor-like synthetic data) ---\n",
        "X = np.random.rand(1000, 20).astype(np.float32)   # 1000 samples, 20 features\n",
        "y = np.random.randint(0, 2, size=(1000,))         # Binary classification (0/1)"
      ],
      "metadata": {
        "id": "MnOBJYibP5XJ"
      },
      "id": "MnOBJYibP5XJ",
      "execution_count": 5,
      "outputs": []
    },
    {
      "cell_type": "code",
      "source": [
        "# Convert to DataFrame for visualization\n",
        "df = pd.DataFrame(X, columns=[f\"Sensor_{i+1}\" for i in range(X.shape[1])])\n",
        "df[\"Label\"] = y"
      ],
      "metadata": {
        "id": "I-Q5wiDBP5ag"
      },
      "id": "I-Q5wiDBP5ag",
      "execution_count": 6,
      "outputs": []
    },
    {
      "cell_type": "code",
      "source": [
        "# Display first 10 rows\n",
        "print(\"Sample of generated dataset:\")\n",
        "display(df.head(10))  # works in Jupyter"
      ],
      "metadata": {
        "colab": {
          "base_uri": "https://localhost:8080/",
          "height": 410
        },
        "id": "EsehdPYEP5ep",
        "outputId": "87184dea-c26b-4009-ec6e-680268d0aea7"
      },
      "id": "EsehdPYEP5ep",
      "execution_count": 7,
      "outputs": [
        {
          "output_type": "stream",
          "name": "stdout",
          "text": [
            "Sample of generated dataset:\n"
          ]
        },
        {
          "output_type": "display_data",
          "data": {
            "text/plain": [
              "   Sensor_1  Sensor_2  Sensor_3  Sensor_4  Sensor_5  Sensor_6  Sensor_7  \\\n",
              "0  0.374540  0.950714  0.731994  0.598659  0.156019  0.155995  0.058084   \n",
              "1  0.611853  0.139494  0.292145  0.366362  0.456070  0.785176  0.199674   \n",
              "2  0.122038  0.495177  0.034389  0.909320  0.258780  0.662522  0.311711   \n",
              "3  0.388677  0.271349  0.828737  0.356753  0.280935  0.542696  0.140924   \n",
              "4  0.863103  0.623298  0.330898  0.063558  0.310982  0.325183  0.729606   \n",
              "5  0.031429  0.636410  0.314356  0.508571  0.907566  0.249292  0.410383   \n",
              "6  0.807440  0.896091  0.318003  0.110052  0.227935  0.427108  0.818015   \n",
              "7  0.962447  0.251782  0.497249  0.300878  0.284840  0.036887  0.609564   \n",
              "8  0.367783  0.632306  0.633530  0.535775  0.090290  0.835302  0.320780   \n",
              "9  0.341066  0.113474  0.924694  0.877339  0.257942  0.659984  0.817222   \n",
              "\n",
              "   Sensor_8  Sensor_9  Sensor_10  ...  Sensor_12  Sensor_13  Sensor_14  \\\n",
              "0  0.866176  0.601115   0.708073  ...   0.969910   0.832443   0.212339   \n",
              "1  0.514234  0.592415   0.046450  ...   0.170524   0.065052   0.948886   \n",
              "2  0.520068  0.546710   0.184854  ...   0.775133   0.939499   0.894827   \n",
              "3  0.802197  0.074551   0.986887  ...   0.198716   0.005522   0.815461   \n",
              "4  0.637557  0.887213   0.472215  ...   0.713245   0.760785   0.561277   \n",
              "5  0.755551  0.228798   0.076980  ...   0.161221   0.929698   0.808120   \n",
              "6  0.860731  0.006952   0.510747  ...   0.222108   0.119865   0.337615   \n",
              "7  0.502679  0.051479   0.278646  ...   0.239562   0.144895   0.489453   \n",
              "8  0.186519  0.040775   0.590893  ...   0.016588   0.512093   0.226496   \n",
              "9  0.555201  0.529651   0.241852  ...   0.897216   0.900418   0.633101   \n",
              "\n",
              "   Sensor_15  Sensor_16  Sensor_17  Sensor_18  Sensor_19  Sensor_20  Label  \n",
              "0   0.181825   0.183405   0.304242   0.524756   0.431945   0.291229      1  \n",
              "1   0.965632   0.808397   0.304614   0.097672   0.684233   0.440152      1  \n",
              "2   0.597900   0.921874   0.088493   0.195983   0.045227   0.325330      1  \n",
              "3   0.706857   0.729007   0.771270   0.074045   0.358466   0.115869      0  \n",
              "4   0.770967   0.493796   0.522733   0.427541   0.025419   0.107891      0  \n",
              "5   0.633404   0.871461   0.803672   0.186570   0.892559   0.539342      0  \n",
              "6   0.942910   0.323203   0.518791   0.703019   0.363630   0.971782      1  \n",
              "7   0.985650   0.242055   0.672136   0.761620   0.237638   0.728216      0  \n",
              "8   0.645173   0.174366   0.690938   0.386735   0.936730   0.137521      1  \n",
              "9   0.339030   0.349210   0.725956   0.897110   0.887086   0.779876      0  \n",
              "\n",
              "[10 rows x 21 columns]"
            ],
            "text/html": [
              "\n",
              "  <div id=\"df-aafa9313-6d8b-428b-8e74-da5cfdb3f237\" class=\"colab-df-container\">\n",
              "    <div>\n",
              "<style scoped>\n",
              "    .dataframe tbody tr th:only-of-type {\n",
              "        vertical-align: middle;\n",
              "    }\n",
              "\n",
              "    .dataframe tbody tr th {\n",
              "        vertical-align: top;\n",
              "    }\n",
              "\n",
              "    .dataframe thead th {\n",
              "        text-align: right;\n",
              "    }\n",
              "</style>\n",
              "<table border=\"1\" class=\"dataframe\">\n",
              "  <thead>\n",
              "    <tr style=\"text-align: right;\">\n",
              "      <th></th>\n",
              "      <th>Sensor_1</th>\n",
              "      <th>Sensor_2</th>\n",
              "      <th>Sensor_3</th>\n",
              "      <th>Sensor_4</th>\n",
              "      <th>Sensor_5</th>\n",
              "      <th>Sensor_6</th>\n",
              "      <th>Sensor_7</th>\n",
              "      <th>Sensor_8</th>\n",
              "      <th>Sensor_9</th>\n",
              "      <th>Sensor_10</th>\n",
              "      <th>...</th>\n",
              "      <th>Sensor_12</th>\n",
              "      <th>Sensor_13</th>\n",
              "      <th>Sensor_14</th>\n",
              "      <th>Sensor_15</th>\n",
              "      <th>Sensor_16</th>\n",
              "      <th>Sensor_17</th>\n",
              "      <th>Sensor_18</th>\n",
              "      <th>Sensor_19</th>\n",
              "      <th>Sensor_20</th>\n",
              "      <th>Label</th>\n",
              "    </tr>\n",
              "  </thead>\n",
              "  <tbody>\n",
              "    <tr>\n",
              "      <th>0</th>\n",
              "      <td>0.374540</td>\n",
              "      <td>0.950714</td>\n",
              "      <td>0.731994</td>\n",
              "      <td>0.598659</td>\n",
              "      <td>0.156019</td>\n",
              "      <td>0.155995</td>\n",
              "      <td>0.058084</td>\n",
              "      <td>0.866176</td>\n",
              "      <td>0.601115</td>\n",
              "      <td>0.708073</td>\n",
              "      <td>...</td>\n",
              "      <td>0.969910</td>\n",
              "      <td>0.832443</td>\n",
              "      <td>0.212339</td>\n",
              "      <td>0.181825</td>\n",
              "      <td>0.183405</td>\n",
              "      <td>0.304242</td>\n",
              "      <td>0.524756</td>\n",
              "      <td>0.431945</td>\n",
              "      <td>0.291229</td>\n",
              "      <td>1</td>\n",
              "    </tr>\n",
              "    <tr>\n",
              "      <th>1</th>\n",
              "      <td>0.611853</td>\n",
              "      <td>0.139494</td>\n",
              "      <td>0.292145</td>\n",
              "      <td>0.366362</td>\n",
              "      <td>0.456070</td>\n",
              "      <td>0.785176</td>\n",
              "      <td>0.199674</td>\n",
              "      <td>0.514234</td>\n",
              "      <td>0.592415</td>\n",
              "      <td>0.046450</td>\n",
              "      <td>...</td>\n",
              "      <td>0.170524</td>\n",
              "      <td>0.065052</td>\n",
              "      <td>0.948886</td>\n",
              "      <td>0.965632</td>\n",
              "      <td>0.808397</td>\n",
              "      <td>0.304614</td>\n",
              "      <td>0.097672</td>\n",
              "      <td>0.684233</td>\n",
              "      <td>0.440152</td>\n",
              "      <td>1</td>\n",
              "    </tr>\n",
              "    <tr>\n",
              "      <th>2</th>\n",
              "      <td>0.122038</td>\n",
              "      <td>0.495177</td>\n",
              "      <td>0.034389</td>\n",
              "      <td>0.909320</td>\n",
              "      <td>0.258780</td>\n",
              "      <td>0.662522</td>\n",
              "      <td>0.311711</td>\n",
              "      <td>0.520068</td>\n",
              "      <td>0.546710</td>\n",
              "      <td>0.184854</td>\n",
              "      <td>...</td>\n",
              "      <td>0.775133</td>\n",
              "      <td>0.939499</td>\n",
              "      <td>0.894827</td>\n",
              "      <td>0.597900</td>\n",
              "      <td>0.921874</td>\n",
              "      <td>0.088493</td>\n",
              "      <td>0.195983</td>\n",
              "      <td>0.045227</td>\n",
              "      <td>0.325330</td>\n",
              "      <td>1</td>\n",
              "    </tr>\n",
              "    <tr>\n",
              "      <th>3</th>\n",
              "      <td>0.388677</td>\n",
              "      <td>0.271349</td>\n",
              "      <td>0.828737</td>\n",
              "      <td>0.356753</td>\n",
              "      <td>0.280935</td>\n",
              "      <td>0.542696</td>\n",
              "      <td>0.140924</td>\n",
              "      <td>0.802197</td>\n",
              "      <td>0.074551</td>\n",
              "      <td>0.986887</td>\n",
              "      <td>...</td>\n",
              "      <td>0.198716</td>\n",
              "      <td>0.005522</td>\n",
              "      <td>0.815461</td>\n",
              "      <td>0.706857</td>\n",
              "      <td>0.729007</td>\n",
              "      <td>0.771270</td>\n",
              "      <td>0.074045</td>\n",
              "      <td>0.358466</td>\n",
              "      <td>0.115869</td>\n",
              "      <td>0</td>\n",
              "    </tr>\n",
              "    <tr>\n",
              "      <th>4</th>\n",
              "      <td>0.863103</td>\n",
              "      <td>0.623298</td>\n",
              "      <td>0.330898</td>\n",
              "      <td>0.063558</td>\n",
              "      <td>0.310982</td>\n",
              "      <td>0.325183</td>\n",
              "      <td>0.729606</td>\n",
              "      <td>0.637557</td>\n",
              "      <td>0.887213</td>\n",
              "      <td>0.472215</td>\n",
              "      <td>...</td>\n",
              "      <td>0.713245</td>\n",
              "      <td>0.760785</td>\n",
              "      <td>0.561277</td>\n",
              "      <td>0.770967</td>\n",
              "      <td>0.493796</td>\n",
              "      <td>0.522733</td>\n",
              "      <td>0.427541</td>\n",
              "      <td>0.025419</td>\n",
              "      <td>0.107891</td>\n",
              "      <td>0</td>\n",
              "    </tr>\n",
              "    <tr>\n",
              "      <th>5</th>\n",
              "      <td>0.031429</td>\n",
              "      <td>0.636410</td>\n",
              "      <td>0.314356</td>\n",
              "      <td>0.508571</td>\n",
              "      <td>0.907566</td>\n",
              "      <td>0.249292</td>\n",
              "      <td>0.410383</td>\n",
              "      <td>0.755551</td>\n",
              "      <td>0.228798</td>\n",
              "      <td>0.076980</td>\n",
              "      <td>...</td>\n",
              "      <td>0.161221</td>\n",
              "      <td>0.929698</td>\n",
              "      <td>0.808120</td>\n",
              "      <td>0.633404</td>\n",
              "      <td>0.871461</td>\n",
              "      <td>0.803672</td>\n",
              "      <td>0.186570</td>\n",
              "      <td>0.892559</td>\n",
              "      <td>0.539342</td>\n",
              "      <td>0</td>\n",
              "    </tr>\n",
              "    <tr>\n",
              "      <th>6</th>\n",
              "      <td>0.807440</td>\n",
              "      <td>0.896091</td>\n",
              "      <td>0.318003</td>\n",
              "      <td>0.110052</td>\n",
              "      <td>0.227935</td>\n",
              "      <td>0.427108</td>\n",
              "      <td>0.818015</td>\n",
              "      <td>0.860731</td>\n",
              "      <td>0.006952</td>\n",
              "      <td>0.510747</td>\n",
              "      <td>...</td>\n",
              "      <td>0.222108</td>\n",
              "      <td>0.119865</td>\n",
              "      <td>0.337615</td>\n",
              "      <td>0.942910</td>\n",
              "      <td>0.323203</td>\n",
              "      <td>0.518791</td>\n",
              "      <td>0.703019</td>\n",
              "      <td>0.363630</td>\n",
              "      <td>0.971782</td>\n",
              "      <td>1</td>\n",
              "    </tr>\n",
              "    <tr>\n",
              "      <th>7</th>\n",
              "      <td>0.962447</td>\n",
              "      <td>0.251782</td>\n",
              "      <td>0.497249</td>\n",
              "      <td>0.300878</td>\n",
              "      <td>0.284840</td>\n",
              "      <td>0.036887</td>\n",
              "      <td>0.609564</td>\n",
              "      <td>0.502679</td>\n",
              "      <td>0.051479</td>\n",
              "      <td>0.278646</td>\n",
              "      <td>...</td>\n",
              "      <td>0.239562</td>\n",
              "      <td>0.144895</td>\n",
              "      <td>0.489453</td>\n",
              "      <td>0.985650</td>\n",
              "      <td>0.242055</td>\n",
              "      <td>0.672136</td>\n",
              "      <td>0.761620</td>\n",
              "      <td>0.237638</td>\n",
              "      <td>0.728216</td>\n",
              "      <td>0</td>\n",
              "    </tr>\n",
              "    <tr>\n",
              "      <th>8</th>\n",
              "      <td>0.367783</td>\n",
              "      <td>0.632306</td>\n",
              "      <td>0.633530</td>\n",
              "      <td>0.535775</td>\n",
              "      <td>0.090290</td>\n",
              "      <td>0.835302</td>\n",
              "      <td>0.320780</td>\n",
              "      <td>0.186519</td>\n",
              "      <td>0.040775</td>\n",
              "      <td>0.590893</td>\n",
              "      <td>...</td>\n",
              "      <td>0.016588</td>\n",
              "      <td>0.512093</td>\n",
              "      <td>0.226496</td>\n",
              "      <td>0.645173</td>\n",
              "      <td>0.174366</td>\n",
              "      <td>0.690938</td>\n",
              "      <td>0.386735</td>\n",
              "      <td>0.936730</td>\n",
              "      <td>0.137521</td>\n",
              "      <td>1</td>\n",
              "    </tr>\n",
              "    <tr>\n",
              "      <th>9</th>\n",
              "      <td>0.341066</td>\n",
              "      <td>0.113474</td>\n",
              "      <td>0.924694</td>\n",
              "      <td>0.877339</td>\n",
              "      <td>0.257942</td>\n",
              "      <td>0.659984</td>\n",
              "      <td>0.817222</td>\n",
              "      <td>0.555201</td>\n",
              "      <td>0.529651</td>\n",
              "      <td>0.241852</td>\n",
              "      <td>...</td>\n",
              "      <td>0.897216</td>\n",
              "      <td>0.900418</td>\n",
              "      <td>0.633101</td>\n",
              "      <td>0.339030</td>\n",
              "      <td>0.349210</td>\n",
              "      <td>0.725956</td>\n",
              "      <td>0.897110</td>\n",
              "      <td>0.887086</td>\n",
              "      <td>0.779876</td>\n",
              "      <td>0</td>\n",
              "    </tr>\n",
              "  </tbody>\n",
              "</table>\n",
              "<p>10 rows × 21 columns</p>\n",
              "</div>\n",
              "    <div class=\"colab-df-buttons\">\n",
              "\n",
              "  <div class=\"colab-df-container\">\n",
              "    <button class=\"colab-df-convert\" onclick=\"convertToInteractive('df-aafa9313-6d8b-428b-8e74-da5cfdb3f237')\"\n",
              "            title=\"Convert this dataframe to an interactive table.\"\n",
              "            style=\"display:none;\">\n",
              "\n",
              "  <svg xmlns=\"http://www.w3.org/2000/svg\" height=\"24px\" viewBox=\"0 -960 960 960\">\n",
              "    <path d=\"M120-120v-720h720v720H120Zm60-500h600v-160H180v160Zm220 220h160v-160H400v160Zm0 220h160v-160H400v160ZM180-400h160v-160H180v160Zm440 0h160v-160H620v160ZM180-180h160v-160H180v160Zm440 0h160v-160H620v160Z\"/>\n",
              "  </svg>\n",
              "    </button>\n",
              "\n",
              "  <style>\n",
              "    .colab-df-container {\n",
              "      display:flex;\n",
              "      gap: 12px;\n",
              "    }\n",
              "\n",
              "    .colab-df-convert {\n",
              "      background-color: #E8F0FE;\n",
              "      border: none;\n",
              "      border-radius: 50%;\n",
              "      cursor: pointer;\n",
              "      display: none;\n",
              "      fill: #1967D2;\n",
              "      height: 32px;\n",
              "      padding: 0 0 0 0;\n",
              "      width: 32px;\n",
              "    }\n",
              "\n",
              "    .colab-df-convert:hover {\n",
              "      background-color: #E2EBFA;\n",
              "      box-shadow: 0px 1px 2px rgba(60, 64, 67, 0.3), 0px 1px 3px 1px rgba(60, 64, 67, 0.15);\n",
              "      fill: #174EA6;\n",
              "    }\n",
              "\n",
              "    .colab-df-buttons div {\n",
              "      margin-bottom: 4px;\n",
              "    }\n",
              "\n",
              "    [theme=dark] .colab-df-convert {\n",
              "      background-color: #3B4455;\n",
              "      fill: #D2E3FC;\n",
              "    }\n",
              "\n",
              "    [theme=dark] .colab-df-convert:hover {\n",
              "      background-color: #434B5C;\n",
              "      box-shadow: 0px 1px 3px 1px rgba(0, 0, 0, 0.15);\n",
              "      filter: drop-shadow(0px 1px 2px rgba(0, 0, 0, 0.3));\n",
              "      fill: #FFFFFF;\n",
              "    }\n",
              "  </style>\n",
              "\n",
              "    <script>\n",
              "      const buttonEl =\n",
              "        document.querySelector('#df-aafa9313-6d8b-428b-8e74-da5cfdb3f237 button.colab-df-convert');\n",
              "      buttonEl.style.display =\n",
              "        google.colab.kernel.accessAllowed ? 'block' : 'none';\n",
              "\n",
              "      async function convertToInteractive(key) {\n",
              "        const element = document.querySelector('#df-aafa9313-6d8b-428b-8e74-da5cfdb3f237');\n",
              "        const dataTable =\n",
              "          await google.colab.kernel.invokeFunction('convertToInteractive',\n",
              "                                                    [key], {});\n",
              "        if (!dataTable) return;\n",
              "\n",
              "        const docLinkHtml = 'Like what you see? Visit the ' +\n",
              "          '<a target=\"_blank\" href=https://colab.research.google.com/notebooks/data_table.ipynb>data table notebook</a>'\n",
              "          + ' to learn more about interactive tables.';\n",
              "        element.innerHTML = '';\n",
              "        dataTable['output_type'] = 'display_data';\n",
              "        await google.colab.output.renderOutput(dataTable, element);\n",
              "        const docLink = document.createElement('div');\n",
              "        docLink.innerHTML = docLinkHtml;\n",
              "        element.appendChild(docLink);\n",
              "      }\n",
              "    </script>\n",
              "  </div>\n",
              "\n",
              "\n",
              "    <div id=\"df-41b32468-e5db-4dd3-988f-ed33950b0535\">\n",
              "      <button class=\"colab-df-quickchart\" onclick=\"quickchart('df-41b32468-e5db-4dd3-988f-ed33950b0535')\"\n",
              "                title=\"Suggest charts\"\n",
              "                style=\"display:none;\">\n",
              "\n",
              "<svg xmlns=\"http://www.w3.org/2000/svg\" height=\"24px\"viewBox=\"0 0 24 24\"\n",
              "     width=\"24px\">\n",
              "    <g>\n",
              "        <path d=\"M19 3H5c-1.1 0-2 .9-2 2v14c0 1.1.9 2 2 2h14c1.1 0 2-.9 2-2V5c0-1.1-.9-2-2-2zM9 17H7v-7h2v7zm4 0h-2V7h2v10zm4 0h-2v-4h2v4z\"/>\n",
              "    </g>\n",
              "</svg>\n",
              "      </button>\n",
              "\n",
              "<style>\n",
              "  .colab-df-quickchart {\n",
              "      --bg-color: #E8F0FE;\n",
              "      --fill-color: #1967D2;\n",
              "      --hover-bg-color: #E2EBFA;\n",
              "      --hover-fill-color: #174EA6;\n",
              "      --disabled-fill-color: #AAA;\n",
              "      --disabled-bg-color: #DDD;\n",
              "  }\n",
              "\n",
              "  [theme=dark] .colab-df-quickchart {\n",
              "      --bg-color: #3B4455;\n",
              "      --fill-color: #D2E3FC;\n",
              "      --hover-bg-color: #434B5C;\n",
              "      --hover-fill-color: #FFFFFF;\n",
              "      --disabled-bg-color: #3B4455;\n",
              "      --disabled-fill-color: #666;\n",
              "  }\n",
              "\n",
              "  .colab-df-quickchart {\n",
              "    background-color: var(--bg-color);\n",
              "    border: none;\n",
              "    border-radius: 50%;\n",
              "    cursor: pointer;\n",
              "    display: none;\n",
              "    fill: var(--fill-color);\n",
              "    height: 32px;\n",
              "    padding: 0;\n",
              "    width: 32px;\n",
              "  }\n",
              "\n",
              "  .colab-df-quickchart:hover {\n",
              "    background-color: var(--hover-bg-color);\n",
              "    box-shadow: 0 1px 2px rgba(60, 64, 67, 0.3), 0 1px 3px 1px rgba(60, 64, 67, 0.15);\n",
              "    fill: var(--button-hover-fill-color);\n",
              "  }\n",
              "\n",
              "  .colab-df-quickchart-complete:disabled,\n",
              "  .colab-df-quickchart-complete:disabled:hover {\n",
              "    background-color: var(--disabled-bg-color);\n",
              "    fill: var(--disabled-fill-color);\n",
              "    box-shadow: none;\n",
              "  }\n",
              "\n",
              "  .colab-df-spinner {\n",
              "    border: 2px solid var(--fill-color);\n",
              "    border-color: transparent;\n",
              "    border-bottom-color: var(--fill-color);\n",
              "    animation:\n",
              "      spin 1s steps(1) infinite;\n",
              "  }\n",
              "\n",
              "  @keyframes spin {\n",
              "    0% {\n",
              "      border-color: transparent;\n",
              "      border-bottom-color: var(--fill-color);\n",
              "      border-left-color: var(--fill-color);\n",
              "    }\n",
              "    20% {\n",
              "      border-color: transparent;\n",
              "      border-left-color: var(--fill-color);\n",
              "      border-top-color: var(--fill-color);\n",
              "    }\n",
              "    30% {\n",
              "      border-color: transparent;\n",
              "      border-left-color: var(--fill-color);\n",
              "      border-top-color: var(--fill-color);\n",
              "      border-right-color: var(--fill-color);\n",
              "    }\n",
              "    40% {\n",
              "      border-color: transparent;\n",
              "      border-right-color: var(--fill-color);\n",
              "      border-top-color: var(--fill-color);\n",
              "    }\n",
              "    60% {\n",
              "      border-color: transparent;\n",
              "      border-right-color: var(--fill-color);\n",
              "    }\n",
              "    80% {\n",
              "      border-color: transparent;\n",
              "      border-right-color: var(--fill-color);\n",
              "      border-bottom-color: var(--fill-color);\n",
              "    }\n",
              "    90% {\n",
              "      border-color: transparent;\n",
              "      border-bottom-color: var(--fill-color);\n",
              "    }\n",
              "  }\n",
              "</style>\n",
              "\n",
              "      <script>\n",
              "        async function quickchart(key) {\n",
              "          const quickchartButtonEl =\n",
              "            document.querySelector('#' + key + ' button');\n",
              "          quickchartButtonEl.disabled = true;  // To prevent multiple clicks.\n",
              "          quickchartButtonEl.classList.add('colab-df-spinner');\n",
              "          try {\n",
              "            const charts = await google.colab.kernel.invokeFunction(\n",
              "                'suggestCharts', [key], {});\n",
              "          } catch (error) {\n",
              "            console.error('Error during call to suggestCharts:', error);\n",
              "          }\n",
              "          quickchartButtonEl.classList.remove('colab-df-spinner');\n",
              "          quickchartButtonEl.classList.add('colab-df-quickchart-complete');\n",
              "        }\n",
              "        (() => {\n",
              "          let quickchartButtonEl =\n",
              "            document.querySelector('#df-41b32468-e5db-4dd3-988f-ed33950b0535 button');\n",
              "          quickchartButtonEl.style.display =\n",
              "            google.colab.kernel.accessAllowed ? 'block' : 'none';\n",
              "        })();\n",
              "      </script>\n",
              "    </div>\n",
              "\n",
              "    </div>\n",
              "  </div>\n"
            ],
            "application/vnd.google.colaboratory.intrinsic+json": {
              "type": "dataframe"
            }
          },
          "metadata": {}
        }
      ]
    },
    {
      "cell_type": "code",
      "source": [
        "# Save dataset to CSV\n",
        "df.to_csv(\"sensor_dataset.csv\", index=False)\n",
        "print(\"✅ Dataset saved as 'sensor_dataset.csv'\")"
      ],
      "metadata": {
        "colab": {
          "base_uri": "https://localhost:8080/"
        },
        "id": "nhl_nOcZQHpT",
        "outputId": "83ed7205-dd78-4359-dca9-3a21928a9a2c"
      },
      "id": "nhl_nOcZQHpT",
      "execution_count": 8,
      "outputs": [
        {
          "output_type": "stream",
          "name": "stdout",
          "text": [
            "✅ Dataset saved as 'sensor_dataset.csv'\n"
          ]
        }
      ]
    },
    {
      "cell_type": "code",
      "source": [
        "# --- 4. Train/Val/Test split ---\n",
        "X_train, X_temp, y_train, y_temp = train_test_split(X, y, test_size=0.3, random_state=SEED)\n",
        "X_val, X_test, y_val, y_test = train_test_split(X_temp, y_temp, test_size=0.5, random_state=SEED)"
      ],
      "metadata": {
        "id": "y0Z57rwwQKqB"
      },
      "id": "y0Z57rwwQKqB",
      "execution_count": 9,
      "outputs": []
    },
    {
      "cell_type": "code",
      "source": [
        "# --- 5. Build MLP Model with Sequential API ---\n",
        "model = Sequential([\n",
        "    Dense(64, activation=\"relu\", input_shape=(X.shape[1],)),  # input layer + hidden\n",
        "    Dropout(DROPOUT_RATE),\n",
        "    Dense(64, activation=\"relu\"),                             # hidden\n",
        "    Dropout(DROPOUT_RATE),\n",
        "    Dense(2, activation=\"softmax\")                            # output (2 classes)\n",
        "])\n"
      ],
      "metadata": {
        "colab": {
          "base_uri": "https://localhost:8080/"
        },
        "id": "rFgE3RNnQKta",
        "outputId": "19d7e6ea-9310-43d1-82cc-bb8ed29582c6"
      },
      "id": "rFgE3RNnQKta",
      "execution_count": 10,
      "outputs": [
        {
          "output_type": "stream",
          "name": "stderr",
          "text": [
            "/usr/local/lib/python3.12/dist-packages/keras/src/layers/core/dense.py:93: UserWarning: Do not pass an `input_shape`/`input_dim` argument to a layer. When using Sequential models, prefer using an `Input(shape)` object as the first layer in the model instead.\n",
            "  super().__init__(activity_regularizer=activity_regularizer, **kwargs)\n"
          ]
        }
      ]
    },
    {
      "cell_type": "code",
      "source": [
        "# Compile\n",
        "optimizer = tf.keras.optimizers.Adam(learning_rate=LEARNING_RATE)\n",
        "model.compile(optimizer=optimizer,\n",
        "              loss=\"sparse_categorical_crossentropy\",\n",
        "              metrics=[\"accuracy\"])"
      ],
      "metadata": {
        "id": "RK67HH8EQICJ"
      },
      "id": "RK67HH8EQICJ",
      "execution_count": 11,
      "outputs": []
    },
    {
      "cell_type": "code",
      "source": [
        "# Summary\n",
        "model.summary()"
      ],
      "metadata": {
        "colab": {
          "base_uri": "https://localhost:8080/",
          "height": 289
        },
        "id": "T5EO_HRDQXh7",
        "outputId": "12bd674c-ce09-4073-b25d-cb3b3eb8e417"
      },
      "id": "T5EO_HRDQXh7",
      "execution_count": 12,
      "outputs": [
        {
          "output_type": "display_data",
          "data": {
            "text/plain": [
              "\u001b[1mModel: \"sequential_1\"\u001b[0m\n"
            ],
            "text/html": [
              "<pre style=\"white-space:pre;overflow-x:auto;line-height:normal;font-family:Menlo,'DejaVu Sans Mono',consolas,'Courier New',monospace\"><span style=\"font-weight: bold\">Model: \"sequential_1\"</span>\n",
              "</pre>\n"
            ]
          },
          "metadata": {}
        },
        {
          "output_type": "display_data",
          "data": {
            "text/plain": [
              "┏━━━━━━━━━━━━━━━━━━━━━━━━━━━━━━━━━┳━━━━━━━━━━━━━━━━━━━━━━━━┳━━━━━━━━━━━━━━━┓\n",
              "┃\u001b[1m \u001b[0m\u001b[1mLayer (type)                   \u001b[0m\u001b[1m \u001b[0m┃\u001b[1m \u001b[0m\u001b[1mOutput Shape          \u001b[0m\u001b[1m \u001b[0m┃\u001b[1m \u001b[0m\u001b[1m      Param #\u001b[0m\u001b[1m \u001b[0m┃\n",
              "┡━━━━━━━━━━━━━━━━━━━━━━━━━━━━━━━━━╇━━━━━━━━━━━━━━━━━━━━━━━━╇━━━━━━━━━━━━━━━┩\n",
              "│ dense_3 (\u001b[38;5;33mDense\u001b[0m)                 │ (\u001b[38;5;45mNone\u001b[0m, \u001b[38;5;34m64\u001b[0m)             │         \u001b[38;5;34m1,344\u001b[0m │\n",
              "├─────────────────────────────────┼────────────────────────┼───────────────┤\n",
              "│ dropout_2 (\u001b[38;5;33mDropout\u001b[0m)             │ (\u001b[38;5;45mNone\u001b[0m, \u001b[38;5;34m64\u001b[0m)             │             \u001b[38;5;34m0\u001b[0m │\n",
              "├─────────────────────────────────┼────────────────────────┼───────────────┤\n",
              "│ dense_4 (\u001b[38;5;33mDense\u001b[0m)                 │ (\u001b[38;5;45mNone\u001b[0m, \u001b[38;5;34m64\u001b[0m)             │         \u001b[38;5;34m4,160\u001b[0m │\n",
              "├─────────────────────────────────┼────────────────────────┼───────────────┤\n",
              "│ dropout_3 (\u001b[38;5;33mDropout\u001b[0m)             │ (\u001b[38;5;45mNone\u001b[0m, \u001b[38;5;34m64\u001b[0m)             │             \u001b[38;5;34m0\u001b[0m │\n",
              "├─────────────────────────────────┼────────────────────────┼───────────────┤\n",
              "│ dense_5 (\u001b[38;5;33mDense\u001b[0m)                 │ (\u001b[38;5;45mNone\u001b[0m, \u001b[38;5;34m2\u001b[0m)              │           \u001b[38;5;34m130\u001b[0m │\n",
              "└─────────────────────────────────┴────────────────────────┴───────────────┘\n"
            ],
            "text/html": [
              "<pre style=\"white-space:pre;overflow-x:auto;line-height:normal;font-family:Menlo,'DejaVu Sans Mono',consolas,'Courier New',monospace\">┏━━━━━━━━━━━━━━━━━━━━━━━━━━━━━━━━━┳━━━━━━━━━━━━━━━━━━━━━━━━┳━━━━━━━━━━━━━━━┓\n",
              "┃<span style=\"font-weight: bold\"> Layer (type)                    </span>┃<span style=\"font-weight: bold\"> Output Shape           </span>┃<span style=\"font-weight: bold\">       Param # </span>┃\n",
              "┡━━━━━━━━━━━━━━━━━━━━━━━━━━━━━━━━━╇━━━━━━━━━━━━━━━━━━━━━━━━╇━━━━━━━━━━━━━━━┩\n",
              "│ dense_3 (<span style=\"color: #0087ff; text-decoration-color: #0087ff\">Dense</span>)                 │ (<span style=\"color: #00d7ff; text-decoration-color: #00d7ff\">None</span>, <span style=\"color: #00af00; text-decoration-color: #00af00\">64</span>)             │         <span style=\"color: #00af00; text-decoration-color: #00af00\">1,344</span> │\n",
              "├─────────────────────────────────┼────────────────────────┼───────────────┤\n",
              "│ dropout_2 (<span style=\"color: #0087ff; text-decoration-color: #0087ff\">Dropout</span>)             │ (<span style=\"color: #00d7ff; text-decoration-color: #00d7ff\">None</span>, <span style=\"color: #00af00; text-decoration-color: #00af00\">64</span>)             │             <span style=\"color: #00af00; text-decoration-color: #00af00\">0</span> │\n",
              "├─────────────────────────────────┼────────────────────────┼───────────────┤\n",
              "│ dense_4 (<span style=\"color: #0087ff; text-decoration-color: #0087ff\">Dense</span>)                 │ (<span style=\"color: #00d7ff; text-decoration-color: #00d7ff\">None</span>, <span style=\"color: #00af00; text-decoration-color: #00af00\">64</span>)             │         <span style=\"color: #00af00; text-decoration-color: #00af00\">4,160</span> │\n",
              "├─────────────────────────────────┼────────────────────────┼───────────────┤\n",
              "│ dropout_3 (<span style=\"color: #0087ff; text-decoration-color: #0087ff\">Dropout</span>)             │ (<span style=\"color: #00d7ff; text-decoration-color: #00d7ff\">None</span>, <span style=\"color: #00af00; text-decoration-color: #00af00\">64</span>)             │             <span style=\"color: #00af00; text-decoration-color: #00af00\">0</span> │\n",
              "├─────────────────────────────────┼────────────────────────┼───────────────┤\n",
              "│ dense_5 (<span style=\"color: #0087ff; text-decoration-color: #0087ff\">Dense</span>)                 │ (<span style=\"color: #00d7ff; text-decoration-color: #00d7ff\">None</span>, <span style=\"color: #00af00; text-decoration-color: #00af00\">2</span>)              │           <span style=\"color: #00af00; text-decoration-color: #00af00\">130</span> │\n",
              "└─────────────────────────────────┴────────────────────────┴───────────────┘\n",
              "</pre>\n"
            ]
          },
          "metadata": {}
        },
        {
          "output_type": "display_data",
          "data": {
            "text/plain": [
              "\u001b[1m Total params: \u001b[0m\u001b[38;5;34m5,634\u001b[0m (22.01 KB)\n"
            ],
            "text/html": [
              "<pre style=\"white-space:pre;overflow-x:auto;line-height:normal;font-family:Menlo,'DejaVu Sans Mono',consolas,'Courier New',monospace\"><span style=\"font-weight: bold\"> Total params: </span><span style=\"color: #00af00; text-decoration-color: #00af00\">5,634</span> (22.01 KB)\n",
              "</pre>\n"
            ]
          },
          "metadata": {}
        },
        {
          "output_type": "display_data",
          "data": {
            "text/plain": [
              "\u001b[1m Trainable params: \u001b[0m\u001b[38;5;34m5,634\u001b[0m (22.01 KB)\n"
            ],
            "text/html": [
              "<pre style=\"white-space:pre;overflow-x:auto;line-height:normal;font-family:Menlo,'DejaVu Sans Mono',consolas,'Courier New',monospace\"><span style=\"font-weight: bold\"> Trainable params: </span><span style=\"color: #00af00; text-decoration-color: #00af00\">5,634</span> (22.01 KB)\n",
              "</pre>\n"
            ]
          },
          "metadata": {}
        },
        {
          "output_type": "display_data",
          "data": {
            "text/plain": [
              "\u001b[1m Non-trainable params: \u001b[0m\u001b[38;5;34m0\u001b[0m (0.00 B)\n"
            ],
            "text/html": [
              "<pre style=\"white-space:pre;overflow-x:auto;line-height:normal;font-family:Menlo,'DejaVu Sans Mono',consolas,'Courier New',monospace\"><span style=\"font-weight: bold\"> Non-trainable params: </span><span style=\"color: #00af00; text-decoration-color: #00af00\">0</span> (0.00 B)\n",
              "</pre>\n"
            ]
          },
          "metadata": {}
        }
      ]
    },
    {
      "cell_type": "code",
      "source": [
        "# --- 6. Train Model ---\n",
        "history = model.fit(\n",
        "    X_train, y_train,\n",
        "    validation_data=(X_val, y_val),\n",
        "    epochs=EPOCHS,\n",
        "    batch_size=BATCH_SIZE,\n",
        "    verbose=1\n",
        ")"
      ],
      "metadata": {
        "colab": {
          "base_uri": "https://localhost:8080/"
        },
        "id": "s6P_-SyFQafC",
        "outputId": "27bcfc10-8049-46f9-9ead-7175fa205149"
      },
      "id": "s6P_-SyFQafC",
      "execution_count": 13,
      "outputs": [
        {
          "output_type": "stream",
          "name": "stdout",
          "text": [
            "Epoch 1/20\n",
            "\u001b[1m22/22\u001b[0m \u001b[32m━━━━━━━━━━━━━━━━━━━━\u001b[0m\u001b[37m\u001b[0m \u001b[1m1s\u001b[0m 13ms/step - accuracy: 0.4996 - loss: 0.7205 - val_accuracy: 0.5000 - val_loss: 0.7073\n",
            "Epoch 2/20\n",
            "\u001b[1m22/22\u001b[0m \u001b[32m━━━━━━━━━━━━━━━━━━━━\u001b[0m\u001b[37m\u001b[0m \u001b[1m0s\u001b[0m 5ms/step - accuracy: 0.5130 - loss: 0.7059 - val_accuracy: 0.4800 - val_loss: 0.7020\n",
            "Epoch 3/20\n",
            "\u001b[1m22/22\u001b[0m \u001b[32m━━━━━━━━━━━━━━━━━━━━\u001b[0m\u001b[37m\u001b[0m \u001b[1m0s\u001b[0m 5ms/step - accuracy: 0.5850 - loss: 0.6713 - val_accuracy: 0.4800 - val_loss: 0.7008\n",
            "Epoch 4/20\n",
            "\u001b[1m22/22\u001b[0m \u001b[32m━━━━━━━━━━━━━━━━━━━━\u001b[0m\u001b[37m\u001b[0m \u001b[1m0s\u001b[0m 5ms/step - accuracy: 0.5199 - loss: 0.7014 - val_accuracy: 0.4667 - val_loss: 0.6992\n",
            "Epoch 5/20\n",
            "\u001b[1m22/22\u001b[0m \u001b[32m━━━━━━━━━━━━━━━━━━━━\u001b[0m\u001b[37m\u001b[0m \u001b[1m0s\u001b[0m 7ms/step - accuracy: 0.5462 - loss: 0.6893 - val_accuracy: 0.4933 - val_loss: 0.6956\n",
            "Epoch 6/20\n",
            "\u001b[1m22/22\u001b[0m \u001b[32m━━━━━━━━━━━━━━━━━━━━\u001b[0m\u001b[37m\u001b[0m \u001b[1m0s\u001b[0m 5ms/step - accuracy: 0.5697 - loss: 0.6815 - val_accuracy: 0.5267 - val_loss: 0.6949\n",
            "Epoch 7/20\n",
            "\u001b[1m22/22\u001b[0m \u001b[32m━━━━━━━━━━━━━━━━━━━━\u001b[0m\u001b[37m\u001b[0m \u001b[1m0s\u001b[0m 5ms/step - accuracy: 0.5288 - loss: 0.6900 - val_accuracy: 0.5133 - val_loss: 0.6934\n",
            "Epoch 8/20\n",
            "\u001b[1m22/22\u001b[0m \u001b[32m━━━━━━━━━━━━━━━━━━━━\u001b[0m\u001b[37m\u001b[0m \u001b[1m0s\u001b[0m 5ms/step - accuracy: 0.5449 - loss: 0.6819 - val_accuracy: 0.5200 - val_loss: 0.6933\n",
            "Epoch 9/20\n",
            "\u001b[1m22/22\u001b[0m \u001b[32m━━━━━━━━━━━━━━━━━━━━\u001b[0m\u001b[37m\u001b[0m \u001b[1m0s\u001b[0m 5ms/step - accuracy: 0.5328 - loss: 0.6943 - val_accuracy: 0.5000 - val_loss: 0.6933\n",
            "Epoch 10/20\n",
            "\u001b[1m22/22\u001b[0m \u001b[32m━━━━━━━━━━━━━━━━━━━━\u001b[0m\u001b[37m\u001b[0m \u001b[1m0s\u001b[0m 5ms/step - accuracy: 0.5379 - loss: 0.6947 - val_accuracy: 0.5467 - val_loss: 0.6921\n",
            "Epoch 11/20\n",
            "\u001b[1m22/22\u001b[0m \u001b[32m━━━━━━━━━━━━━━━━━━━━\u001b[0m\u001b[37m\u001b[0m \u001b[1m0s\u001b[0m 5ms/step - accuracy: 0.5459 - loss: 0.6811 - val_accuracy: 0.5533 - val_loss: 0.6920\n",
            "Epoch 12/20\n",
            "\u001b[1m22/22\u001b[0m \u001b[32m━━━━━━━━━━━━━━━━━━━━\u001b[0m\u001b[37m\u001b[0m \u001b[1m0s\u001b[0m 5ms/step - accuracy: 0.5276 - loss: 0.6911 - val_accuracy: 0.5133 - val_loss: 0.6938\n",
            "Epoch 13/20\n",
            "\u001b[1m22/22\u001b[0m \u001b[32m━━━━━━━━━━━━━━━━━━━━\u001b[0m\u001b[37m\u001b[0m \u001b[1m0s\u001b[0m 5ms/step - accuracy: 0.5381 - loss: 0.6933 - val_accuracy: 0.5200 - val_loss: 0.6958\n",
            "Epoch 14/20\n",
            "\u001b[1m22/22\u001b[0m \u001b[32m━━━━━━━━━━━━━━━━━━━━\u001b[0m\u001b[37m\u001b[0m \u001b[1m0s\u001b[0m 5ms/step - accuracy: 0.5438 - loss: 0.6850 - val_accuracy: 0.5200 - val_loss: 0.6977\n",
            "Epoch 15/20\n",
            "\u001b[1m22/22\u001b[0m \u001b[32m━━━━━━━━━━━━━━━━━━━━\u001b[0m\u001b[37m\u001b[0m \u001b[1m0s\u001b[0m 5ms/step - accuracy: 0.5561 - loss: 0.6886 - val_accuracy: 0.5400 - val_loss: 0.6945\n",
            "Epoch 16/20\n",
            "\u001b[1m22/22\u001b[0m \u001b[32m━━━━━━━━━━━━━━━━━━━━\u001b[0m\u001b[37m\u001b[0m \u001b[1m0s\u001b[0m 8ms/step - accuracy: 0.5617 - loss: 0.6817 - val_accuracy: 0.5067 - val_loss: 0.6951\n",
            "Epoch 17/20\n",
            "\u001b[1m22/22\u001b[0m \u001b[32m━━━━━━━━━━━━━━━━━━━━\u001b[0m\u001b[37m\u001b[0m \u001b[1m0s\u001b[0m 9ms/step - accuracy: 0.5566 - loss: 0.6839 - val_accuracy: 0.5133 - val_loss: 0.6959\n",
            "Epoch 18/20\n",
            "\u001b[1m22/22\u001b[0m \u001b[32m━━━━━━━━━━━━━━━━━━━━\u001b[0m\u001b[37m\u001b[0m \u001b[1m0s\u001b[0m 7ms/step - accuracy: 0.5759 - loss: 0.6824 - val_accuracy: 0.5200 - val_loss: 0.6976\n",
            "Epoch 19/20\n",
            "\u001b[1m22/22\u001b[0m \u001b[32m━━━━━━━━━━━━━━━━━━━━\u001b[0m\u001b[37m\u001b[0m \u001b[1m0s\u001b[0m 5ms/step - accuracy: 0.5570 - loss: 0.6765 - val_accuracy: 0.5400 - val_loss: 0.7006\n",
            "Epoch 20/20\n",
            "\u001b[1m22/22\u001b[0m \u001b[32m━━━━━━━━━━━━━━━━━━━━\u001b[0m\u001b[37m\u001b[0m \u001b[1m0s\u001b[0m 5ms/step - accuracy: 0.5868 - loss: 0.6685 - val_accuracy: 0.5533 - val_loss: 0.7029\n"
          ]
        }
      ]
    },
    {
      "cell_type": "code",
      "source": [
        "# --- 7. Plot Training Results ---\n",
        "plt.figure()\n",
        "plt.plot(history.history[\"loss\"], label=\"Train Loss\")\n",
        "plt.plot(history.history[\"val_loss\"], label=\"Val Loss\")\n",
        "plt.legend()\n",
        "plt.title(\"Loss Curve\")\n",
        "plt.show()\n",
        "\n",
        "plt.figure()\n",
        "plt.plot(history.history[\"accuracy\"], label=\"Train Acc\")\n",
        "plt.plot(history.history[\"val_accuracy\"], label=\"Val Acc\")\n",
        "plt.legend()\n",
        "plt.title(\"Accuracy Curve\")\n",
        "plt.show()"
      ],
      "metadata": {
        "colab": {
          "base_uri": "https://localhost:8080/",
          "height": 887
        },
        "id": "gMKHLACwQdXx",
        "outputId": "4554fff3-aa29-4d9d-9288-54ee1cc22a3d"
      },
      "id": "gMKHLACwQdXx",
      "execution_count": 14,
      "outputs": [
        {
          "output_type": "display_data",
          "data": {
            "text/plain": [
              "<Figure size 640x480 with 1 Axes>"
            ],
            "image/png": "[encoded data removed]"
          },
          "metadata": {}
        },
        {
          "output_type": "display_data",
          "data": {
            "text/plain": [
              "<Figure size 640x480 with 1 Axes>"
            ],
            "image/png": "[encoded data removed]"
          },
          "metadata": {}
        }
      ]
    },
    {
      "cell_type": "code",
      "source": [
        "# --- 8. Evaluate on Test Set ---\n",
        "test_loss, test_acc = model.evaluate(X_test, y_test, verbose=0)\n",
        "print(f\"✅ Test Accuracy: {test_acc:.4f}\")"
      ],
      "metadata": {
        "colab": {
          "base_uri": "https://localhost:8080/"
        },
        "id": "4GGiomM7QgoB",
        "outputId": "9c217910-cb95-410c-ffd8-8090998bca74"
      },
      "id": "4GGiomM7QgoB",
      "execution_count": 15,
      "outputs": [
        {
          "output_type": "stream",
          "name": "stdout",
          "text": [
            "✅ Test Accuracy: 0.4600\n"
          ]
        }
      ]
    }
  ],
  "metadata": {
    "colab": {
      "provenance": [],
      "include_colab_link": true
    },
    "language_info": {
      "name": "python"
    },
    "kernelspec": {
      "name": "python3",
      "display_name": "Python 3"
    }
  },
  "nbformat": 4,
  "nbformat_minor": 5
}