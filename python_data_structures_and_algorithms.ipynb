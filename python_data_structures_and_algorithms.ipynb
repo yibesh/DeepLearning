{
  "cells": [
    {
      "cell_type": "markdown",
      "metadata": {
        "id": "view-in-github",
        "colab_type": "text"
      },
      "source": [
        "<a href=\"https://colab.research.google.com/github/yibesh/DeepLearning/blob/main/python_data_structures_and_algorithms.ipynb\" target=\"_parent\"><img src=\"https://colab.research.google.com/assets/colab-badge.svg\" alt=\"Open In Colab\"/></a>"
      ]
    },
    {
      "cell_type": "markdown",
      "id": "a5350dbc",
      "metadata": {
        "id": "a5350dbc"
      },
      "source": [
        "# Python Practice: Data Structures and Algorithms\n",
        "This notebook covers basic Python data structures and simple algorithm examples for beginners."
      ]
    },
    {
      "cell_type": "code",
      "source": [
        "# -------------------------------------------\n",
        "# Python Practice: Data Structures and Algorithms\n",
        "# -------------------------------------------\n",
        "\n",
        "# 1️⃣ Basic Lists\n",
        "numbers = [10, 5, 8, 20, 15]\n",
        "print(\"Original list:\", numbers)\n",
        "\n",
        "numbers.append(25)\n",
        "numbers.remove(8)\n",
        "numbers.sort()\n",
        "print(\"Modified list:\", numbers)"
      ],
      "metadata": {
        "colab": {
          "base_uri": "https://localhost:8080/"
        },
        "id": "puoGhfZuI9sf",
        "outputId": "8473d910-bea5-475d-c919-76fb8d001580"
      },
      "id": "puoGhfZuI9sf",
      "execution_count": 1,
      "outputs": [
        {
          "output_type": "stream",
          "name": "stdout",
          "text": [
            "Original list: [10, 5, 8, 20, 15]\n",
            "Modified list: [5, 10, 15, 20, 25]\n"
          ]
        }
      ]
    },
    {
      "cell_type": "code",
      "source": [
        "# 2️⃣ Tuples (Immutable Lists)\n",
        "coords = (5, 10)\n",
        "print(\"\\nTuple:\", coords)\n",
        "print(\"Access element:\", coords[0])"
      ],
      "metadata": {
        "colab": {
          "base_uri": "https://localhost:8080/"
        },
        "id": "mXVG6R5LI9-d",
        "outputId": "b156a5b2-3378-473a-eb4e-742596f12fd4"
      },
      "id": "mXVG6R5LI9-d",
      "execution_count": 2,
      "outputs": [
        {
          "output_type": "stream",
          "name": "stdout",
          "text": [
            "\n",
            "Tuple: (5, 10)\n",
            "Access element: 5\n"
          ]
        }
      ]
    },
    {
      "cell_type": "code",
      "source": [
        "# 3️⃣ Sets (No duplicates)\n",
        "fruits = {\"apple\", \"banana\", \"apple\", \"orange\"}\n",
        "print(\"\\nSet:\", fruits)"
      ],
      "metadata": {
        "colab": {
          "base_uri": "https://localhost:8080/"
        },
        "id": "cSGfMWlBI-CN",
        "outputId": "827e1a79-a377-4a90-d9de-3b44b3bdfc9f"
      },
      "id": "cSGfMWlBI-CN",
      "execution_count": 3,
      "outputs": [
        {
          "output_type": "stream",
          "name": "stdout",
          "text": [
            "\n",
            "Set: {'orange', 'banana', 'apple'}\n"
          ]
        }
      ]
    },
    {
      "cell_type": "code",
      "source": [
        "# 4️⃣ Dictionaries (Key-Value Pairs)\n",
        "student = {\"name\": \"Alice\", \"age\": 21, \"grade\": \"A\"}\n",
        "print(\"\\nStudent dictionary:\", student)\n",
        "student[\"age\"] = 22\n",
        "print(\"Updated student age:\", student[\"age\"])"
      ],
      "metadata": {
        "colab": {
          "base_uri": "https://localhost:8080/"
        },
        "id": "rIOzWBfII-F2",
        "outputId": "68794c67-2faf-4e5f-dcac-98464467477f"
      },
      "id": "rIOzWBfII-F2",
      "execution_count": 4,
      "outputs": [
        {
          "output_type": "stream",
          "name": "stdout",
          "text": [
            "\n",
            "Student dictionary: {'name': 'Alice', 'age': 21, 'grade': 'A'}\n",
            "Updated student age: 22\n"
          ]
        }
      ]
    },
    {
      "cell_type": "code",
      "source": [
        "# 5️⃣ Stack (LIFO)\n",
        "stack = []\n",
        "stack.append(\"A\")\n",
        "stack.append(\"B\")\n",
        "stack.append(\"C\")\n",
        "print(\"\\nStack:\", stack)\n",
        "stack.pop()\n",
        "print(\"After popping:\", stack)"
      ],
      "metadata": {
        "colab": {
          "base_uri": "https://localhost:8080/"
        },
        "id": "7Gs6olG5I-KO",
        "outputId": "2c23e7f7-f373-4f63-a052-dc9391e80388"
      },
      "id": "7Gs6olG5I-KO",
      "execution_count": 5,
      "outputs": [
        {
          "output_type": "stream",
          "name": "stdout",
          "text": [
            "\n",
            "Stack: ['A', 'B', 'C']\n",
            "After popping: ['A', 'B']\n"
          ]
        }
      ]
    },
    {
      "cell_type": "code",
      "source": [
        "# 6️⃣ Queue (FIFO)\n",
        "from collections import deque\n",
        "queue = deque([\"A\", \"B\", \"C\"])\n",
        "print(\"\\nQueue:\", queue)\n",
        "queue.popleft()\n",
        "print(\"After dequeuing:\", queue)"
      ],
      "metadata": {
        "colab": {
          "base_uri": "https://localhost:8080/"
        },
        "id": "Ct8HkWX_I-Nd",
        "outputId": "5145cbc6-2f73-42dd-838d-01326b9df771"
      },
      "id": "Ct8HkWX_I-Nd",
      "execution_count": 6,
      "outputs": [
        {
          "output_type": "stream",
          "name": "stdout",
          "text": [
            "\n",
            "Queue: deque(['A', 'B', 'C'])\n",
            "After dequeuing: deque(['B', 'C'])\n"
          ]
        }
      ]
    },
    {
      "cell_type": "code",
      "source": [
        "# 7 Tree\n",
        "# Define a Node class for Binary Tree\n",
        "class Node:\n",
        "    def __init__(self, value):\n",
        "        self.value = value\n",
        "        self.left = None\n",
        "        self.right = None\n",
        "\n",
        "# Create a simple tree\n",
        "root = Node(1)\n",
        "root.left = Node(2)\n",
        "root.right = Node(3)\n",
        "root.left.left = Node(4)\n",
        "root.left.right = Node(5)\n",
        "\n",
        "# Function for inorder traversal\n",
        "def inorder(node):\n",
        "    if node:\n",
        "        inorder(node.left)\n",
        "        print(node.value, end=\" \")\n",
        "        inorder(node.right)\n",
        "\n",
        "# Test traversal\n",
        "print(\"Inorder traversal of the tree:\")\n",
        "inorder(root)\n"
      ],
      "metadata": {
        "colab": {
          "base_uri": "https://localhost:8080/"
        },
        "id": "ZS7V22msI-Qx",
        "outputId": "103b5f94-e060-4443-a6fd-2a917d91148a"
      },
      "id": "ZS7V22msI-Qx",
      "execution_count": 7,
      "outputs": [
        {
          "output_type": "stream",
          "name": "stdout",
          "text": [
            "Inorder traversal of the tree:\n",
            "4 2 5 1 3 "
          ]
        }
      ]
    },
    {
      "cell_type": "code",
      "source": [
        "# 8 Tree\n",
        "# Simple graph represented as an adjacency list\n",
        "graph = {\n",
        "    'A': ['B', 'C'],\n",
        "    'B': ['A', 'D', 'E'],\n",
        "    'C': ['A', 'F'],\n",
        "    'D': ['B'],\n",
        "    'E': ['B', 'F'],\n",
        "    'F': ['C', 'E']\n",
        "}\n",
        "\n",
        "# Depth-First Search (DFS)\n",
        "def dfs(graph, start, visited=None):\n",
        "    if visited is None:\n",
        "        visited = set()\n",
        "    visited.add(start)\n",
        "    print(start, end=\" \")\n",
        "    for neighbor in graph[start]:\n",
        "        if neighbor not in visited:\n",
        "            dfs(graph, neighbor, visited)\n",
        "\n",
        "# Breadth-First Search (BFS)\n",
        "from collections import deque\n",
        "def bfs(graph, start):\n",
        "    visited = set()\n",
        "    queue = deque([start])\n",
        "    visited.add(start)\n",
        "    while queue:\n",
        "        vertex = queue.popleft()\n",
        "        print(vertex, end=\" \")\n",
        "        for neighbor in graph[vertex]:\n",
        "            if neighbor not in visited:\n",
        "                visited.add(neighbor)\n",
        "                queue.append(neighbor)\n",
        "\n",
        "print(\"\\nDFS Traversal:\")\n",
        "dfs(graph, 'A')\n",
        "\n",
        "print(\"\\nBFS Traversal:\")\n",
        "bfs(graph, 'A')\n"
      ],
      "metadata": {
        "colab": {
          "base_uri": "https://localhost:8080/"
        },
        "id": "zbAZ7W3DK2FU",
        "outputId": "c8a8ea0a-fb4b-417f-b823-1a8ffdea390e"
      },
      "id": "zbAZ7W3DK2FU",
      "execution_count": 8,
      "outputs": [
        {
          "output_type": "stream",
          "name": "stdout",
          "text": [
            "\n",
            "DFS Traversal:\n",
            "A B D E F C \n",
            "BFS Traversal:\n",
            "A B C D E F "
          ]
        }
      ]
    }
  ],
  "metadata": {
    "colab": {
      "provenance": [],
      "include_colab_link": true
    },
    "language_info": {
      "name": "python"
    },
    "kernelspec": {
      "name": "python3",
      "display_name": "Python 3"
    }
  },
  "nbformat": 4,
  "nbformat_minor": 5
}